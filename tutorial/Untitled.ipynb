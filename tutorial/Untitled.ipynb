{
 "cells": [
  {
   "cell_type": "code",
   "execution_count": 1,
   "metadata": {},
   "outputs": [],
   "source": [
    "import functools\n",
    "from cij.util import convert_unit\n",
    "\n",
    "class ResultsWriter:\n",
    "\n",
    "    def __init__(self):\n",
    "        self.registry = {}\n",
    "        self.it = None\n",
    "    \n",
    "    def write_value_to_file(self, fname, unit_from, unit_to, value):\n",
    "        value = convert_unit(unit_from, unit_to, value)\n",
    "        print(value)\n",
    "    \n",
    "    def add_new_value_writer(self, keywords, f, unit_from, unit_to):\n",
    "        print(\"Adding\", keywords)\n",
    "        for keyword in keywords:\n",
    "            self.registry[keyword] = lambda: self.write_value_to_file(\"\", unit_from, unit_to, f(self.it))\n",
    "            \n",
    "    def update_parent(self, it):\n",
    "        self.it = it\n",
    "\n",
    "    def register_value(self, keywords, unit_from, unit_to):\n",
    "        print(\"Outside\", keywords)\n",
    "        def decorator(f):\n",
    "#             print(args)\n",
    "            self.add_new_value_writer(keywords, f, unit_from, unit_to)\n",
    "            @functools.wraps(f)\n",
    "            def wrapper(*args, **kwargs):\n",
    "                return f(it, *args, **kwargs)\n",
    "            return wrapper\n",
    "        return decorator\n",
    "\n",
    "\n",
    "    # def write_dict(self, f):\n",
    "    #     @functools.wraps\n",
    "    #     def wrapper(keywords, unit_from, unit_to):\n",
    "    #         self.add_new_dict_writer(keywords, f, unit_from, unit_to)\n",
    "    #         return f\n",
    "    #     return wrapper\n",
    "    \n",
    "writer = ResultsWriter()"
   ]
  },
  {
   "cell_type": "code",
   "execution_count": 2,
   "metadata": {},
   "outputs": [
    {
     "name": "stdout",
     "output_type": "stream",
     "text": [
      "Outside ['haha']\n",
      "Adding ['haha']\n"
     ]
    }
   ],
   "source": [
    "@writer.register_value([\"haha\"], \"m\", \"km\")\n",
    "def test():\n",
    "    return 5"
   ]
  },
  {
   "cell_type": "code",
   "execution_count": 3,
   "metadata": {},
   "outputs": [],
   "source": [
    "\n",
    "# test()"
   ]
  },
  {
   "cell_type": "code",
   "execution_count": 4,
   "metadata": {},
   "outputs": [],
   "source": [
    "# writer.registry[\"haha\"]()"
   ]
  },
  {
   "cell_type": "code",
   "execution_count": 5,
   "metadata": {},
   "outputs": [
    {
     "name": "stdout",
     "output_type": "stream",
     "text": [
      "Outside ['height']\n",
      "Adding ['height']\n",
      "Outside ['width']\n",
      "Adding ['width']\n"
     ]
    }
   ],
   "source": [
    "from lazy_property import LazyProperty\n",
    "\n",
    "class TestClass:\n",
    "\n",
    "    @writer.register_value([\"height\"], \"m\", \"km\")\n",
    "    def height(self):\n",
    "        return 5\n",
    "    \n",
    "    @writer.register_value([\"width\"], \"m\", \"km\")\n",
    "    def width(self):\n",
    "        return 7"
   ]
  },
  {
   "cell_type": "code",
   "execution_count": 6,
   "metadata": {},
   "outputs": [],
   "source": [
    "s = TestClass()\n",
    "writer.update_parent(s)\n",
    "\n",
    "# print(s.height())\n",
    "# print(s.height())\n",
    "\n",
    "# print(s.width())\n",
    "# print(s.width())"
   ]
  },
  {
   "cell_type": "code",
   "execution_count": 7,
   "metadata": {},
   "outputs": [
    {
     "name": "stdout",
     "output_type": "stream",
     "text": [
      "{'haha': <function ResultsWriter.add_new_value_writer.<locals>.<lambda> at 0x124fb3840>, 'height': <function ResultsWriter.add_new_value_writer.<locals>.<lambda> at 0x124fb3ea0>, 'width': <function ResultsWriter.add_new_value_writer.<locals>.<lambda> at 0x125076510>}\n",
      "0.007\n",
      "0.005\n"
     ]
    }
   ],
   "source": [
    "print(writer.registry)\n",
    "writer.registry[\"width\"]()\n",
    "writer.registry[\"height\"]()"
   ]
  },
  {
   "cell_type": "code",
   "execution_count": null,
   "metadata": {},
   "outputs": [],
   "source": []
  }
 ],
 "metadata": {
  "kernelspec": {
   "display_name": "Python 3",
   "language": "python",
   "name": "python3"
  },
  "language_info": {
   "codemirror_mode": {
    "name": "ipython",
    "version": 3
   },
   "file_extension": ".py",
   "mimetype": "text/x-python",
   "name": "python",
   "nbconvert_exporter": "python",
   "pygments_lexer": "ipython3",
   "version": "3.6.8"
  }
 },
 "nbformat": 4,
 "nbformat_minor": 2
}
