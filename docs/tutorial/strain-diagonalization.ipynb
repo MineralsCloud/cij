{
 "cells": [
  {
   "cell_type": "markdown",
   "metadata": {},
   "source": [
    "# Concepts for Diagonalization of strain\n",
    "\n",
    "This notebook showcases how diagonalization of strain works."
   ]
  },
  {
   "cell_type": "markdown",
   "metadata": {},
   "source": [
    "## Finding the transformation matrix"
   ]
  },
  {
   "cell_type": "markdown",
   "metadata": {},
   "source": [
    "Creating the fictitous strain $e$ for $c_{46}$"
   ]
  },
  {
   "cell_type": "code",
   "execution_count": 1,
   "metadata": {},
   "outputs": [
    {
     "name": "stdout",
     "output_type": "stream",
     "text": [
      "[[0. 0. 0.]\n",
      " [0. 0. 1.]\n",
      " [0. 1. 0.]]\n"
     ]
    }
   ],
   "source": [
    "import numpy\n",
    "from cij.util import c_\n",
    "\n",
    "key = c_(44)\n",
    "\n",
    "e = numpy.zeros((3, 3))\n",
    "\n",
    "e[key.i[0] - 1, key.i[1] - 1] = 1\n",
    "e[key.i[1] - 1, key.i[0] - 1] = 1\n",
    "\n",
    "e[key.j[0] - 1, key.j[1] - 1] = 1\n",
    "e[key.j[1] - 1, key.j[0] - 1] = 1\n",
    "\n",
    "print(e)"
   ]
  },
  {
   "cell_type": "markdown",
   "metadata": {},
   "source": [
    "The transformation matrix $T$ is the column-wise eigenvectors of the strain matrix $e$"
   ]
  },
  {
   "cell_type": "code",
   "execution_count": 2,
   "metadata": {},
   "outputs": [
    {
     "name": "stdout",
     "output_type": "stream",
     "text": [
      "[[ 0.          0.          1.        ]\n",
      " [ 0.70710678  0.70710678  0.        ]\n",
      " [ 0.70710678 -0.70710678  0.        ]]\n"
     ]
    }
   ],
   "source": [
    "evals, T = numpy.linalg.eig(e)\n",
    "print(T)"
   ]
  },
  {
   "cell_type": "markdown",
   "metadata": {},
   "source": [
    "The $e'$ in the rotated coordinate system is the matrix with eigenvalues of $e$ in its diagonals"
   ]
  },
  {
   "cell_type": "code",
   "execution_count": 3,
   "metadata": {},
   "outputs": [
    {
     "name": "stdout",
     "output_type": "stream",
     "text": [
      "[[ 1.  0.  0.]\n",
      " [ 0. -1.  0.]\n",
      " [ 0.  0.  0.]]\n"
     ]
    }
   ],
   "source": [
    "print(numpy.diag(evals))"
   ]
  },
  {
   "cell_type": "markdown",
   "metadata": {},
   "source": [
    "We can retrive the original strain with\n",
    "\n",
    "$$\n",
    "e' = T^{-1} e T\n",
    "$$\n",
    "\n",
    "or backwards\n",
    "\n",
    "$$\n",
    "e = T e' T^{-1}\n",
    "$$"
   ]
  },
  {
   "cell_type": "code",
   "execution_count": 4,
   "metadata": {},
   "outputs": [
    {
     "name": "stdout",
     "output_type": "stream",
     "text": [
      "e' = \n",
      "[[ 1.  0.  0.]\n",
      " [ 0. -1.  0.]\n",
      " [ 0.  0.  0.]]\n",
      "e' = T^{-1} e T: True\n",
      "e = \n",
      "[[0. 0. 0.]\n",
      " [0. 0. 1.]\n",
      " [0. 1. 0.]]\n",
      "e = T e' T^{-1}: True\n"
     ]
    }
   ],
   "source": [
    "print(\"e' = \")\n",
    "print(T.T @ e @ T)\n",
    "\n",
    "print(\"e' = T^{-1} e T:\", numpy.allclose(numpy.diag(evals), T.T @ e @ T))\n",
    "\n",
    "print(\"e = \")\n",
    "print(T @ numpy.diag(evals) @ T.T)\n",
    "\n",
    "print(\"e = T e' T^{-1}:\", numpy.allclose(e, T @ numpy.diag(evals) @ T.T))"
   ]
  },
  {
   "cell_type": "markdown",
   "metadata": {},
   "source": [
    "## Testing with symbols"
   ]
  },
  {
   "cell_type": "code",
   "execution_count": 5,
   "metadata": {},
   "outputs": [],
   "source": [
    "import sympy\n",
    "\n",
    "def round_expr(expr, num_digits=4):\n",
    "    return expr.xreplace({n : round(n, num_digits) for n in expr.atoms(sympy.Number)})"
   ]
  },
  {
   "cell_type": "code",
   "execution_count": 6,
   "metadata": {},
   "outputs": [
    {
     "data": {
      "text/latex": [
       "$\\displaystyle \\left[\\begin{matrix}0.5 e_{22} + 0.5 e_{33} & 0.5 e_{22} - 0.5 e_{33} & 0\\\\0.5 e_{22} - 0.5 e_{33} & 0.5 e_{22} + 0.5 e_{33} & 0\\\\0 & 0 & 1.0 e_{11}\\end{matrix}\\right]$"
      ],
      "text/plain": [
       "Matrix([\n",
       "[0.5*e_22 + 0.5*e_33, 0.5*e_22 - 0.5*e_33,        0],\n",
       "[0.5*e_22 - 0.5*e_33, 0.5*e_22 + 0.5*e_33,        0],\n",
       "[                  0,                   0, 1.0*e_11]])"
      ]
     },
     "execution_count": 6,
     "metadata": {},
     "output_type": "execute_result"
    }
   ],
   "source": [
    "a = sympy.symbols(\"e_11\")\n",
    "b = sympy.symbols(\"e_22\")\n",
    "c = sympy.symbols(\"e_33\")\n",
    "\n",
    "m = sympy.Matrix([\n",
    "    [a, 0, 0],\n",
    "    [0, b, 0],\n",
    "    [0, 0, c]\n",
    "])\n",
    "\n",
    "round_expr(T.T @ m @ T)"
   ]
  },
  {
   "cell_type": "code",
   "execution_count": 7,
   "metadata": {},
   "outputs": [
    {
     "data": {
      "text/latex": [
       "$\\displaystyle \\left[\\begin{matrix}0.5 β + 0.5 γ + 1.0 & 0.5 β - 0.5 γ & 0\\\\0.5 β - 0.5 γ & 0.5 β + 0.5 γ + 1.0 & 0\\\\0 & 0 & 1.0 α + 1.0\\end{matrix}\\right]$"
      ],
      "text/plain": [
       "Matrix([\n",
       "[0.5*β + 0.5*γ + 1.0,       0.5*β - 0.5*γ,           0],\n",
       "[      0.5*β - 0.5*γ, 0.5*β + 0.5*γ + 1.0,           0],\n",
       "[                  0,                   0, 1.0*α + 1.0]])"
      ]
     },
     "execution_count": 7,
     "metadata": {},
     "output_type": "execute_result"
    }
   ],
   "source": [
    "a = sympy.symbols(\"α\")\n",
    "b = sympy.symbols(\"β\")\n",
    "c = sympy.symbols(\"γ\")\n",
    "\n",
    "m = sympy.Matrix([\n",
    "    [1 + a, 0.   , 0.   ],\n",
    "    [0.   , 1 + b, 0.   ],\n",
    "    [0.   , 0.   , 1 + c]\n",
    "])\n",
    "\n",
    "round_expr(T.T @ m @ T)"
   ]
  }
 ],
 "metadata": {
  "kernelspec": {
   "display_name": "Python 3",
   "language": "python",
   "name": "python3"
  },
  "language_info": {
   "codemirror_mode": {
    "name": "ipython",
    "version": 3
   },
   "file_extension": ".py",
   "mimetype": "text/x-python",
   "name": "python",
   "nbconvert_exporter": "python",
   "pygments_lexer": "ipython3",
   "version": "3.6.8"
  }
 },
 "nbformat": 4,
 "nbformat_minor": 2
}
