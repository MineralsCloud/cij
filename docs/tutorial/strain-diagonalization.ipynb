{
 "cells": [
  {
   "cell_type": "markdown",
   "metadata": {},
   "source": [
    "# Concepts for Diagonalization of strain\n",
    "\n",
    "This jupyter notebook is a worksheet that demostrates how coordinate transformation of strain works in the shear elastic modulus part works this program. You could clone this repo and change the `key` below and rerun it to see how the shear modulus solving mechanism is working for each of the elastic modulus"
   ]
  },
  {
   "cell_type": "markdown",
   "metadata": {},
   "source": [
    "## Finding the transformation matrix"
   ]
  },
  {
   "cell_type": "markdown",
   "metadata": {},
   "source": [
    "Define a shear elastic modulus $c_{ij}$ below as `key`"
   ]
  },
  {
   "cell_type": "code",
   "execution_count": 1,
   "metadata": {},
   "outputs": [],
   "source": [
    "import numpy\n",
    "from cij.util import c_\n",
    "\n",
    "key = c_(15)\n",
    "\n",
    "if not key.is_shear: raise RuntimeError(f\"The strain c_{key} is not a shear modulus.\")"
   ]
  },
  {
   "cell_type": "markdown",
   "metadata": {},
   "source": [
    "Creating the corresponding fictitous strain $e$ for $c_{ij}$"
   ]
  },
  {
   "cell_type": "code",
   "execution_count": 2,
   "metadata": {},
   "outputs": [
    {
     "name": "stdout",
     "output_type": "stream",
     "text": [
      "[[1. 0. 1.]\n",
      " [0. 0. 0.]\n",
      " [1. 0. 0.]]\n"
     ]
    }
   ],
   "source": [
    "e = numpy.zeros((3, 3))\n",
    "\n",
    "e[key.i[0] - 1, key.i[1] - 1] = 1\n",
    "e[key.i[1] - 1, key.i[0] - 1] = 1\n",
    "\n",
    "e[key.j[0] - 1, key.j[1] - 1] = 1\n",
    "e[key.j[1] - 1, key.j[0] - 1] = 1\n",
    "\n",
    "print(e)"
   ]
  },
  {
   "cell_type": "markdown",
   "metadata": {},
   "source": [
    "The transformation matrix $T$ is the column-wise eigenvectors of the strain matrix $e$"
   ]
  },
  {
   "cell_type": "code",
   "execution_count": 3,
   "metadata": {},
   "outputs": [
    {
     "name": "stdout",
     "output_type": "stream",
     "text": [
      "[[ 0.85065081 -0.52573111  0.        ]\n",
      " [ 0.          0.          1.        ]\n",
      " [ 0.52573111  0.85065081  0.        ]]\n"
     ]
    }
   ],
   "source": [
    "evals, T = numpy.linalg.eig(e)\n",
    "print(T)"
   ]
  },
  {
   "cell_type": "markdown",
   "metadata": {},
   "source": [
    "The $e'$ in the rotated coordinate system is the matrix with eigenvalues of $e$ in its diagonals"
   ]
  },
  {
   "cell_type": "code",
   "execution_count": 4,
   "metadata": {},
   "outputs": [
    {
     "name": "stdout",
     "output_type": "stream",
     "text": [
      "[[ 1.61803399  0.          0.        ]\n",
      " [ 0.         -0.61803399  0.        ]\n",
      " [ 0.          0.          0.        ]]\n"
     ]
    }
   ],
   "source": [
    "print(numpy.diag(evals))"
   ]
  },
  {
   "cell_type": "markdown",
   "metadata": {},
   "source": [
    "We can retrive the original strain with\n",
    "\n",
    "$$\n",
    "e' = T^{-1} e T\n",
    "$$"
   ]
  },
  {
   "cell_type": "code",
   "execution_count": 5,
   "metadata": {},
   "outputs": [
    {
     "name": "stdout",
     "output_type": "stream",
     "text": [
      "e = \n",
      "[[ 1.00000000e+00  0.00000000e+00  1.00000000e+00]\n",
      " [ 0.00000000e+00  0.00000000e+00  0.00000000e+00]\n",
      " [ 1.00000000e+00  0.00000000e+00 -5.55111512e-17]]\n",
      "e = T e' T^{-1}: True\n"
     ]
    }
   ],
   "source": [
    "print(\"e = \")\n",
    "print(T @ numpy.diag(evals) @ T.T)\n",
    "\n",
    "print(\"e = T e' T^{-1}:\", numpy.allclose(e, T @ numpy.diag(evals) @ T.T))"
   ]
  },
  {
   "cell_type": "markdown",
   "metadata": {},
   "source": [
    "or backwards\n",
    "\n",
    "$$\n",
    "e = T e' T^{-1}\n",
    "$$"
   ]
  },
  {
   "cell_type": "code",
   "execution_count": 6,
   "metadata": {},
   "outputs": [
    {
     "name": "stdout",
     "output_type": "stream",
     "text": [
      "e' = \n",
      "[[ 1.61803399e+00  1.11022302e-16  0.00000000e+00]\n",
      " [ 1.66533454e-16 -6.18033989e-01  0.00000000e+00]\n",
      " [ 0.00000000e+00  0.00000000e+00  0.00000000e+00]]\n",
      "e' = T^{-1} e T: True\n"
     ]
    }
   ],
   "source": [
    "print(\"e' = \")\n",
    "print(T.T @ e @ T)\n",
    "\n",
    "print(\"e' = T^{-1} e T:\", numpy.allclose(numpy.diag(evals), T.T @ e @ T))"
   ]
  },
  {
   "cell_type": "markdown",
   "metadata": {},
   "source": [
    "## Testing with symbols"
   ]
  },
  {
   "cell_type": "code",
   "execution_count": 7,
   "metadata": {},
   "outputs": [],
   "source": [
    "import sympy\n",
    "\n",
    "def round_expr(expr, num_digits=4):\n",
    "    return expr.xreplace({n : round(n, num_digits) for n in expr.atoms(sympy.Number)})"
   ]
  },
  {
   "cell_type": "markdown",
   "metadata": {},
   "source": [
    "### The strain used for calculating strain-Grüneisen parameter from volume-Grüneisen parameter"
   ]
  },
  {
   "cell_type": "code",
   "execution_count": 8,
   "metadata": {},
   "outputs": [
    {
     "data": {
      "text/latex": [
       "$\\displaystyle \\left[\\begin{matrix}0.7236 e_{11} + 0.2764 e_{33} & - 0.4472 e_{11} + 0.4472 e_{33} & 0\\\\- 0.4472 e_{11} + 0.4472 e_{33} & 0.2764 e_{11} + 0.7236 e_{33} & 0\\\\0 & 0 & 1.0 e_{22}\\end{matrix}\\right]$"
      ],
      "text/plain": [
       "Matrix([\n",
       "[ 0.7236*e_11 + 0.2764*e_33, -0.4472*e_11 + 0.4472*e_33,        0],\n",
       "[-0.4472*e_11 + 0.4472*e_33,  0.2764*e_11 + 0.7236*e_33,        0],\n",
       "[                         0,                          0, 1.0*e_22]])"
      ]
     },
     "execution_count": 8,
     "metadata": {},
     "output_type": "execute_result"
    }
   ],
   "source": [
    "a = sympy.symbols(\"e_11\")\n",
    "b = sympy.symbols(\"e_22\")\n",
    "c = sympy.symbols(\"e_33\")\n",
    "\n",
    "m = sympy.Matrix([\n",
    "    [a, 0, 0],\n",
    "    [0, b, 0],\n",
    "    [0, 0, c]\n",
    "])\n",
    "\n",
    "round_expr(T.T @ m @ T)"
   ]
  },
  {
   "cell_type": "code",
   "execution_count": 9,
   "metadata": {},
   "outputs": [
    {
     "data": {
      "text/latex": [
       "$\\displaystyle \\left[\\begin{matrix}0.7236 α + 0.2764 γ + 1.0 & - 0.4472 α + 0.4472 γ & 0\\\\- 0.4472 α + 0.4472 γ & 0.2764 α + 0.7236 γ + 1.0 & 0\\\\0 & 0 & 1.0 β + 1.0\\end{matrix}\\right]$"
      ],
      "text/plain": [
       "Matrix([\n",
       "[0.7236*α + 0.2764*γ + 1.0,      -0.4472*α + 0.4472*γ,           0],\n",
       "[     -0.4472*α + 0.4472*γ, 0.2764*α + 0.7236*γ + 1.0,           0],\n",
       "[                        0,                         0, 1.0*β + 1.0]])"
      ]
     },
     "execution_count": 9,
     "metadata": {},
     "output_type": "execute_result"
    }
   ],
   "source": [
    "a = sympy.symbols(\"α\")\n",
    "b = sympy.symbols(\"β\")\n",
    "c = sympy.symbols(\"γ\")\n",
    "\n",
    "m = sympy.Matrix([\n",
    "    [1 + a, 0.   , 0.   ],\n",
    "    [0.   , 1 + b, 0.   ],\n",
    "    [0.   , 0.   , 1 + c]\n",
    "])\n",
    "\n",
    "round_expr(T.T @ m @ T)"
   ]
  },
  {
   "cell_type": "markdown",
   "metadata": {},
   "source": [
    "### The strain energy invariance equation\n",
    "\n",
    "The strain energy $E = \\sum \\frac{1}{2} c_{ijkl}e_{ij}e_{kl}$ should be same in the original and rotated coordinate system. Here we show the energy in both coordinate systems with the help of `sympy`."
   ]
  },
  {
   "cell_type": "code",
   "execution_count": 10,
   "metadata": {},
   "outputs": [],
   "source": [
    "import itertools\n",
    "from cij.util import C_\n",
    "\n",
    "\n",
    "def _meke_symbol(*argv):\n",
    "    key = c_(\"\".join(str(i+1) for i in argv))\n",
    "    return sympy.symbols(\"c_%d%d\" % key.v)\n",
    "\n",
    "def get_strain_energy(fictitious_strain: numpy.ndarray):\n",
    "    \n",
    "    s = 0\n",
    "      \n",
    "    nz = numpy.nonzero(fictitious_strain)\n",
    "\n",
    "    for (i, j), (k, l) in itertools.product(zip(*nz), zip(*nz)):\n",
    "        e1 = fictitious_strain[i,j]\n",
    "        e2 = fictitious_strain[k,l]\n",
    "        c = _meke_symbol(i,j,k,l)\n",
    "        s += c * e1 * e2\n",
    "    \n",
    "    return s"
   ]
  },
  {
   "cell_type": "markdown",
   "metadata": {},
   "source": [
    "The **left hand side** of the strain energy invariance equation, which is under the **original coordinate system**, the expression for the strain $e$ defined above is"
   ]
  },
  {
   "cell_type": "code",
   "execution_count": 11,
   "metadata": {
    "scrolled": true
   },
   "outputs": [
    {
     "data": {
      "text/latex": [
       "$\\displaystyle 1.0 c_{11} + 4.0 c_{15} + 4.0 c_{55}$"
      ],
      "text/plain": [
       "1.0*c_11 + 4.0*c_15 + 4.0*c_55"
      ]
     },
     "execution_count": 11,
     "metadata": {},
     "output_type": "execute_result"
    }
   ],
   "source": [
    "round_expr(get_strain_energy(e))"
   ]
  },
  {
   "cell_type": "markdown",
   "metadata": {},
   "source": [
    "and on the **right hand side**, which is under the **rotated coordinate system**, the expression for the strain $e'$ defined above is"
   ]
  },
  {
   "cell_type": "code",
   "execution_count": 12,
   "metadata": {},
   "outputs": [
    {
     "data": {
      "text/latex": [
       "$\\displaystyle 2.618 c_{11} - 2.0 c_{12} + 0.382 c_{22}$"
      ],
      "text/plain": [
       "2.618*c_11 - 2.0*c_12 + 0.382*c_22"
      ]
     },
     "execution_count": 12,
     "metadata": {},
     "output_type": "execute_result"
    }
   ],
   "source": [
    "e_prime = numpy.diag(evals)\n",
    "round_expr(get_strain_energy(e_prime))"
   ]
  }
 ],
 "metadata": {
  "kernelspec": {
   "display_name": "Python 3",
   "language": "python",
   "name": "python3"
  },
  "language_info": {
   "codemirror_mode": {
    "name": "ipython",
    "version": 3
   },
   "file_extension": ".py",
   "mimetype": "text/x-python",
   "name": "python",
   "nbconvert_exporter": "python",
   "pygments_lexer": "ipython3",
   "version": "3.6.8"
  }
 },
 "nbformat": 4,
 "nbformat_minor": 2
}
