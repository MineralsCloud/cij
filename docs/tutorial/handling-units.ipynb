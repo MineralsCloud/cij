{
 "nbformat": 4,
 "nbformat_minor": 2,
 "metadata": {
  "language_info": {
   "name": "python",
   "codemirror_mode": {
    "name": "ipython",
    "version": 3
   },
   "version": "3.6.8-final"
  },
  "orig_nbformat": 2,
  "file_extension": ".py",
  "mimetype": "text/x-python",
  "name": "python",
  "npconvert_exporter": "python",
  "pygments_lexer": "ipython3",
  "version": 3,
  "kernelspec": {
   "name": "python36864bit368pyenvd6afb3362fb64a40b8bf674afd00b7cc",
   "display_name": "Python 3.6.8 64-bit ('3.6.8': pyenv)"
  }
 },
 "cells": [
  {
   "cell_type": "markdown",
   "metadata": {},
   "source": [
    "# Unit handling and unit conversions in `qha-cij`"
   ]
  },
  {
   "cell_type": "markdown",
   "metadata": {},
   "source": [
    "This tutorial will demostrate how to convert between units in `qha-cij`.\n",
    "\n",
    "Internally, the values are stored in [Rydberg atomic units](https://faculty.kfupm.edu.sa/phys/aanaqvi/rydberg.pdf)."
   ]
  },
  {
   "cell_type": "markdown",
   "metadata": {},
   "source": [
    "## The units module\n",
    "\n",
    "The units module is provided in `cij.util`. Based on the [pint](https://pint.readthedocs.io/en/0.10.1/) package, the `units` is a instance of Pint `UnitRegistry` that will maintain a list of units. The atomic units are by [default](https://github.com/hgrecco/pint/blob/master/pint/default_en.txt) loaded and available after Pint `0.10.0` we will stick to that. A single `UnitRegistry` instance is supposed to be shared among the entire program."
   ]
  },
  {
   "cell_type": "code",
   "execution_count": 1,
   "metadata": {},
   "outputs": [
    {
     "output_type": "execute_result",
     "data": {
      "text/plain": "pint.registry.UnitRegistry"
     },
     "metadata": {},
     "execution_count": 1
    }
   ],
   "source": [
    "from cij.util import units\n",
    "\n",
    "type(units)"
   ]
  },
  {
   "cell_type": "markdown",
   "metadata": {},
   "source": [
    "## Declaring quantity\n",
    "\n",
    "The physical variables are declared using `Quantity` to include the phyisical units"
   ]
  },
  {
   "cell_type": "code",
   "execution_count": 2,
   "metadata": {},
   "outputs": [
    {
     "output_type": "stream",
     "name": "stdout",
     "text": "1 meter\n1 rydberg\n"
    }
   ],
   "source": [
    "print(units.Quantity(1, units.m))\n",
    "print(units.Quantity(1, units.rydberg))"
   ]
  },
  {
   "cell_type": "markdown",
   "metadata": {},
   "source": [
    "## Conversion between units with `to()`\n",
    "\n",
    "Units are converted by create a `Quantity` with unit, and convert the unit with `to()`, and the the value number is obtained using the `.magnitude` property.\n",
    "\n",
    "Here we convert three terms:\n",
    "\n",
    "- Length: 1 Å = 0.529177 bohr\n",
    "- Volume: 1 Å$^3$ = 0.148184 bohr$^3$\n",
    "- Pressure: 1 Ryd / bohr$^3$ = 14710 GPa"
   ]
  },
  {
   "cell_type": "code",
   "execution_count": 3,
   "metadata": {},
   "outputs": [
    {
     "output_type": "stream",
     "name": "stdout",
     "text": "- Length:\t 0.5291772109039774\n- Volume:\t 0.14818471147298387\n- Pressure:\t 14710.50784817977\n"
    }
   ],
   "source": [
    "print(\"- Length:\\t\", units.Quantity(1, units.bohr).to(units.angstrom).magnitude)\n",
    "print(\"- Volume:\\t\", units.Quantity(1, units.bohr ** 3).to(units.angstrom ** 3).magnitude)\n",
    "print(\"- Pressure:\\t\", units.Quantity(1, units.rydberg / units.bohr ** 3).to(units.GPa).magnitude)"
   ]
  }
 ]
}